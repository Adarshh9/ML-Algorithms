{
  "nbformat": 4,
  "nbformat_minor": 0,
  "metadata": {
    "colab": {
      "private_outputs": true,
      "provenance": [],
      "toc_visible": true,
      "gpuType": "T4"
    },
    "kernelspec": {
      "name": "python3",
      "display_name": "Python 3"
    },
    "language_info": {
      "name": "python"
    },
    "accelerator": "GPU"
  },
  "cells": [
    {
      "cell_type": "code",
      "execution_count": null,
      "metadata": {
        "id": "qr-pIU4SFuOT"
      },
      "outputs": [],
      "source": [
        "import tensorflow as tf\n",
        "from tensorflow.keras.datasets import imdb\n",
        "from tensorflow.keras.preprocessing.sequence import pad_sequences\n",
        "from tensorflow.keras.models import Sequential\n",
        "from tensorflow.keras.layers import SimpleRNN , LSTM , GRU , Embedding , Dense , Bidirectional"
      ]
    },
    {
      "cell_type": "code",
      "source": [
        "(X_train , y_train),(X_test , y_test) = imdb.load_data(num_words=10000)"
      ],
      "metadata": {
        "id": "ShIMq2KZGh6v"
      },
      "execution_count": null,
      "outputs": []
    },
    {
      "cell_type": "code",
      "source": [
        "maxlen = 100\n",
        "X_train = pad_sequences(X_train ,maxlen=maxlen ,padding='post' ,truncating='post')\n",
        "X_test = pad_sequences(X_test ,maxlen=maxlen ,padding='post' ,truncating='post')"
      ],
      "metadata": {
        "id": "0exOr0KJG418"
      },
      "execution_count": null,
      "outputs": []
    },
    {
      "cell_type": "code",
      "source": [
        "embedding_dim = 32\n",
        "\n",
        "model = Sequential([\n",
        "    Embedding(input_dim=10000 ,output_dim=embedding_dim ,input_length=maxlen),\n",
        "    SimpleRNN(5),\n",
        "    Dense(1,activation='sigmoid')\n",
        "])\n",
        "\n",
        "model.compile(\n",
        "    optimizer='adam' ,loss='binary_crossentropy' ,metrics=['accuracy']\n",
        ")\n",
        "\n",
        "model.summary()"
      ],
      "metadata": {
        "id": "YnyRMpREHjwu"
      },
      "execution_count": null,
      "outputs": []
    },
    {
      "cell_type": "code",
      "source": [
        "embedding_dim = 32\n",
        "\n",
        "model = Sequential([\n",
        "    Embedding(input_dim=10000 ,output_dim=embedding_dim ,input_length=maxlen),\n",
        "    Bidirectional(SimpleRNN(5)),\n",
        "    Dense(1,activation='sigmoid')\n",
        "])\n",
        "\n",
        "model.compile(\n",
        "    optimizer='adam' ,loss='binary_crossentropy' ,metrics=['accuracy']\n",
        ")\n",
        "\n",
        "model.summary()"
      ],
      "metadata": {
        "id": "iUHdOAKqI6cd"
      },
      "execution_count": null,
      "outputs": []
    },
    {
      "cell_type": "code",
      "source": [],
      "metadata": {
        "id": "J0Aq0U8XJTYP"
      },
      "execution_count": null,
      "outputs": []
    }
  ]
}