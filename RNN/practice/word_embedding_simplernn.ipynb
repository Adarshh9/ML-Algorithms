{
 "cells": [
  {
   "cell_type": "code",
   "execution_count": 1,
   "id": "d739ef8d-3df0-43a2-ae0c-2b33b123f2bb",
   "metadata": {},
   "outputs": [],
   "source": [
    "docs = ['go india',\n",
    "\t\t'india india',\n",
    "\t\t'hip hip hurray',\n",
    "\t\t'jeetega bhai jeetega india jeetega',\n",
    "\t\t'bharat mata ki jai',\n",
    "\t\t'kohli kohli',\n",
    "\t\t'sachin sachin',\n",
    "\t\t'dhoni dhoni',\n",
    "\t\t'modi ji ki jai',\n",
    "\t\t'inquilab zindabad']"
   ]
  },
  {
   "cell_type": "code",
   "execution_count": 2,
   "id": "28f32a53-f119-4ae3-bbc0-7bd40a3f5c91",
   "metadata": {},
   "outputs": [
    {
     "name": "stderr",
     "output_type": "stream",
     "text": [
      "2023-11-16 14:06:40.498481: I tensorflow/tsl/cuda/cudart_stub.cc:28] Could not find cuda drivers on your machine, GPU will not be used.\n",
      "2023-11-16 14:06:40.570079: I tensorflow/tsl/cuda/cudart_stub.cc:28] Could not find cuda drivers on your machine, GPU will not be used.\n",
      "2023-11-16 14:06:40.570830: I tensorflow/core/platform/cpu_feature_guard.cc:182] This TensorFlow binary is optimized to use available CPU instructions in performance-critical operations.\n",
      "To enable the following instructions: AVX2 FMA, in other operations, rebuild TensorFlow with the appropriate compiler flags.\n",
      "2023-11-16 14:06:41.645803: W tensorflow/compiler/tf2tensorrt/utils/py_utils.cc:38] TF-TRT Warning: Could not find TensorRT\n"
     ]
    }
   ],
   "source": [
    "from keras.preprocessing.text import Tokenizer\n",
    "tokenizer = Tokenizer()"
   ]
  },
  {
   "cell_type": "code",
   "execution_count": 3,
   "id": "c32cabe4-787d-4611-8a06-8acdc5471980",
   "metadata": {},
   "outputs": [],
   "source": [
    "tokenizer.fit_on_texts(docs)"
   ]
  },
  {
   "cell_type": "code",
   "execution_count": 4,
   "id": "2bb06160-bede-4a4a-b486-2e2f922c5c06",
   "metadata": {},
   "outputs": [
    {
     "data": {
      "text/plain": [
       "17"
      ]
     },
     "execution_count": 4,
     "metadata": {},
     "output_type": "execute_result"
    }
   ],
   "source": [
    "len(tokenizer.word_index)"
   ]
  },
  {
   "cell_type": "code",
   "execution_count": 5,
   "id": "43208865-9f5b-4c92-a6e6-97dbc4d436e4",
   "metadata": {},
   "outputs": [
    {
     "data": {
      "text/plain": [
       "[[9, 1],\n",
       " [1, 1],\n",
       " [3, 3, 10],\n",
       " [2, 11, 2, 1, 2],\n",
       " [12, 13, 4, 5],\n",
       " [6, 6],\n",
       " [7, 7],\n",
       " [8, 8],\n",
       " [14, 15, 4, 5],\n",
       " [16, 17]]"
      ]
     },
     "execution_count": 5,
     "metadata": {},
     "output_type": "execute_result"
    }
   ],
   "source": [
    "sequences = tokenizer.texts_to_sequences(docs)\n",
    "sequences"
   ]
  },
  {
   "cell_type": "code",
   "execution_count": 6,
   "id": "de5965be-e315-4c8e-b595-728f4c381c9e",
   "metadata": {},
   "outputs": [
    {
     "data": {
      "text/plain": [
       "array([[ 9,  1,  0,  0,  0],\n",
       "       [ 1,  1,  0,  0,  0],\n",
       "       [ 3,  3, 10,  0,  0],\n",
       "       [ 2, 11,  2,  1,  2],\n",
       "       [12, 13,  4,  5,  0],\n",
       "       [ 6,  6,  0,  0,  0],\n",
       "       [ 7,  7,  0,  0,  0],\n",
       "       [ 8,  8,  0,  0,  0],\n",
       "       [14, 15,  4,  5,  0],\n",
       "       [16, 17,  0,  0,  0]], dtype=int32)"
      ]
     },
     "execution_count": 6,
     "metadata": {},
     "output_type": "execute_result"
    }
   ],
   "source": [
    "from keras.utils import pad_sequences\n",
    "sequences = pad_sequences(sequences,padding='post')\n",
    "sequences"
   ]
  },
  {
   "cell_type": "code",
   "execution_count": 7,
   "id": "9cfb8e5c-a728-4b2e-af71-307be036273c",
   "metadata": {},
   "outputs": [],
   "source": [
    "from keras import Sequential\n",
    "from keras.layers import Dense,Embedding,SimpleRNN,Flatten"
   ]
  },
  {
   "cell_type": "code",
   "execution_count": 17,
   "id": "2b1f1441-d472-4207-99bf-f7f5bb030242",
   "metadata": {},
   "outputs": [
    {
     "name": "stdout",
     "output_type": "stream",
     "text": [
      "Model: \"sequential_3\"\n",
      "_________________________________________________________________\n",
      " Layer (type)                Output Shape              Param #   \n",
      "=================================================================\n",
      " embedding_3 (Embedding)     (None, 5, 2)              36        \n",
      "                                                                 \n",
      "=================================================================\n",
      "Total params: 36 (144.00 Byte)\n",
      "Trainable params: 36 (144.00 Byte)\n",
      "Non-trainable params: 0 (0.00 Byte)\n",
      "_________________________________________________________________\n"
     ]
    }
   ],
   "source": [
    "model = Sequential()\n",
    "model.add(Embedding(18,output_dim=2,input_length=5))\n",
    "\n",
    "model.summary()"
   ]
  },
  {
   "cell_type": "code",
   "execution_count": 18,
   "id": "c9bb1c17-2d90-4761-a1f0-ef3de91e3911",
   "metadata": {},
   "outputs": [
    {
     "name": "stdout",
     "output_type": "stream",
     "text": [
      "Model: \"sequential_3\"\n",
      "_________________________________________________________________\n",
      " Layer (type)                Output Shape              Param #   \n",
      "=================================================================\n",
      " embedding_3 (Embedding)     (None, 5, 2)              36        \n",
      "                                                                 \n",
      "=================================================================\n",
      "Total params: 36 (144.00 Byte)\n",
      "Trainable params: 36 (144.00 Byte)\n",
      "Non-trainable params: 0 (0.00 Byte)\n",
      "_________________________________________________________________\n"
     ]
    }
   ],
   "source": [
    "model.compile(\n",
    "    'adam','accuracy'\n",
    ")"
   ]
  },
  {
   "cell_type": "code",
   "execution_count": 19,
   "id": "13e08404-7ed1-4d7f-bf28-fc3ba4943a44",
   "metadata": {},
   "outputs": [
    {
     "name": "stdout",
     "output_type": "stream",
     "text": [
      "1/1 [==============================] - 0s 36ms/step\n",
      "[[[ 0.00554959 -0.00276265]\n",
      "  [-0.01764464  0.02370333]\n",
      "  [-0.0008777  -0.02170908]\n",
      "  [-0.0008777  -0.02170908]\n",
      "  [-0.0008777  -0.02170908]]\n",
      "\n",
      " [[-0.01764464  0.02370333]\n",
      "  [-0.01764464  0.02370333]\n",
      "  [-0.0008777  -0.02170908]\n",
      "  [-0.0008777  -0.02170908]\n",
      "  [-0.0008777  -0.02170908]]\n",
      "\n",
      " [[ 0.01312171 -0.04138447]\n",
      "  [ 0.01312171 -0.04138447]\n",
      "  [ 0.02826006 -0.00093925]\n",
      "  [-0.0008777  -0.02170908]\n",
      "  [-0.0008777  -0.02170908]]\n",
      "\n",
      " [[-0.01342101  0.01163397]\n",
      "  [ 0.010245    0.01747224]\n",
      "  [-0.01342101  0.01163397]\n",
      "  [-0.01764464  0.02370333]\n",
      "  [-0.01342101  0.01163397]]\n",
      "\n",
      " [[-0.02387358  0.00528739]\n",
      "  [-0.03594112  0.00968548]\n",
      "  [ 0.00936089 -0.0047423 ]\n",
      "  [-0.04373765 -0.03848809]\n",
      "  [-0.0008777  -0.02170908]]\n",
      "\n",
      " [[-0.02450751  0.03698141]\n",
      "  [-0.02450751  0.03698141]\n",
      "  [-0.0008777  -0.02170908]\n",
      "  [-0.0008777  -0.02170908]\n",
      "  [-0.0008777  -0.02170908]]\n",
      "\n",
      " [[ 0.03892962 -0.01705917]\n",
      "  [ 0.03892962 -0.01705917]\n",
      "  [-0.0008777  -0.02170908]\n",
      "  [-0.0008777  -0.02170908]\n",
      "  [-0.0008777  -0.02170908]]\n",
      "\n",
      " [[-0.04883508 -0.03502669]\n",
      "  [-0.04883508 -0.03502669]\n",
      "  [-0.0008777  -0.02170908]\n",
      "  [-0.0008777  -0.02170908]\n",
      "  [-0.0008777  -0.02170908]]\n",
      "\n",
      " [[-0.02558639  0.04066911]\n",
      "  [-0.02212485 -0.03328159]\n",
      "  [ 0.00936089 -0.0047423 ]\n",
      "  [-0.04373765 -0.03848809]\n",
      "  [-0.0008777  -0.02170908]]\n",
      "\n",
      " [[-0.00401238  0.01500588]\n",
      "  [ 0.04490996 -0.00260933]\n",
      "  [-0.0008777  -0.02170908]\n",
      "  [-0.0008777  -0.02170908]\n",
      "  [-0.0008777  -0.02170908]]]\n"
     ]
    }
   ],
   "source": [
    "pred = model.predict(sequences)\n",
    "print(pred)"
   ]
  },
  {
   "cell_type": "code",
   "execution_count": null,
   "id": "70b9eee3-8ef7-4bcb-aaaf-93545e4c708f",
   "metadata": {},
   "outputs": [],
   "source": []
  },
  {
   "cell_type": "code",
   "execution_count": 20,
   "id": "5ca01ed6-6d0a-4633-9567-a0aeb7d21e47",
   "metadata": {},
   "outputs": [],
   "source": [
    "from keras.datasets import imdb\n",
    "from keras.preprocessing.text import Tokenizer\n",
    "from keras.utils import pad_sequences\n",
    "from keras import Sequential\n",
    "from keras.layers import Dense,SimpleRNN,Embedding,Flatten"
   ]
  },
  {
   "cell_type": "code",
   "execution_count": 21,
   "id": "94f92292-7fbb-46aa-8b45-b80361452b38",
   "metadata": {},
   "outputs": [],
   "source": [
    "(X_train,y_train),(X_test,y_test) = imdb.load_data()"
   ]
  },
  {
   "cell_type": "code",
   "execution_count": 22,
   "id": "1416e0f5-3adb-4315-b413-6384886750be",
   "metadata": {},
   "outputs": [],
   "source": [
    "X_train = pad_sequences(X_train,padding='post',maxlen=100)\n",
    "X_test = pad_sequences(X_test,padding='post',maxlen=100)"
   ]
  },
  {
   "cell_type": "code",
   "execution_count": 23,
   "id": "5383f5c5-9ea6-40fa-8e02-fa35cc2c31e4",
   "metadata": {},
   "outputs": [
    {
     "data": {
      "text/plain": [
       "(25000, 100)"
      ]
     },
     "execution_count": 23,
     "metadata": {},
     "output_type": "execute_result"
    }
   ],
   "source": [
    "X_train.shape"
   ]
  },
  {
   "cell_type": "code",
   "execution_count": 31,
   "id": "345453fc-ce74-4bf5-b118-fcf9322b3da0",
   "metadata": {},
   "outputs": [],
   "source": [
    "model = Sequential([\n",
    "    Embedding(input_dim=100000, output_dim=2, input_length=100),\n",
    "    SimpleRNN(32,return_sequences=False),\n",
    "    Dense(1,activation=\"sigmoid\")\n",
    "])"
   ]
  },
  {
   "cell_type": "code",
   "execution_count": 32,
   "id": "41c6d77e-ec5f-4cac-ac80-ea519c08ef5b",
   "metadata": {},
   "outputs": [
    {
     "name": "stdout",
     "output_type": "stream",
     "text": [
      "Model: \"sequential_6\"\n",
      "_________________________________________________________________\n",
      " Layer (type)                Output Shape              Param #   \n",
      "=================================================================\n",
      " embedding_7 (Embedding)     (None, 100, 2)            200000    \n",
      "                                                                 \n",
      " simple_rnn_2 (SimpleRNN)    (None, 32)                1120      \n",
      "                                                                 \n",
      " dense_2 (Dense)             (None, 1)                 33        \n",
      "                                                                 \n",
      "=================================================================\n",
      "Total params: 201153 (785.75 KB)\n",
      "Trainable params: 201153 (785.75 KB)\n",
      "Non-trainable params: 0 (0.00 Byte)\n",
      "_________________________________________________________________\n"
     ]
    }
   ],
   "source": [
    "model.summary()"
   ]
  },
  {
   "cell_type": "code",
   "execution_count": 33,
   "id": "ec4e7c78-b160-41aa-9469-6240e3e730c7",
   "metadata": {},
   "outputs": [
    {
     "name": "stdout",
     "output_type": "stream",
     "text": [
      "Epoch 1/10\n",
      "782/782 [==============================] - 21s 25ms/step - loss: 0.6846 - acc: 0.5408 - val_loss: 0.6507 - val_acc: 0.6109\n",
      "Epoch 2/10\n",
      "782/782 [==============================] - 19s 24ms/step - loss: 0.5637 - acc: 0.7038 - val_loss: 0.4983 - val_acc: 0.7736\n",
      "Epoch 3/10\n",
      "782/782 [==============================] - 18s 23ms/step - loss: 0.3884 - acc: 0.8278 - val_loss: 0.4309 - val_acc: 0.8124\n",
      "Epoch 4/10\n",
      "782/782 [==============================] - 18s 23ms/step - loss: 0.2408 - acc: 0.9069 - val_loss: 0.4931 - val_acc: 0.7788\n",
      "Epoch 5/10\n",
      "782/782 [==============================] - 19s 24ms/step - loss: 0.1751 - acc: 0.9370 - val_loss: 0.5433 - val_acc: 0.8180\n",
      "Epoch 6/10\n",
      "782/782 [==============================] - 18s 23ms/step - loss: 0.1315 - acc: 0.9551 - val_loss: 0.5880 - val_acc: 0.8120\n",
      "Epoch 7/10\n",
      "782/782 [==============================] - 18s 23ms/step - loss: 0.0964 - acc: 0.9690 - val_loss: 0.5728 - val_acc: 0.8040\n",
      "Epoch 8/10\n",
      "782/782 [==============================] - 18s 23ms/step - loss: 0.0829 - acc: 0.9742 - val_loss: 0.6797 - val_acc: 0.7835\n",
      "Epoch 9/10\n",
      "782/782 [==============================] - 18s 23ms/step - loss: 0.1038 - acc: 0.9647 - val_loss: 0.6020 - val_acc: 0.8000\n",
      "Epoch 10/10\n",
      "782/782 [==============================] - 18s 23ms/step - loss: 0.0887 - acc: 0.9718 - val_loss: 0.6950 - val_acc: 0.8020\n"
     ]
    }
   ],
   "source": [
    "model.compile(optimizer='adam', loss='binary_crossentropy', metrics=['acc'])\n",
    "history = model.fit(X_train, y_train,epochs=10,validation_data=(X_test,y_test))"
   ]
  },
  {
   "cell_type": "code",
   "execution_count": null,
   "id": "50e8bcaf-2817-4bd6-b0d4-42fe55128cf3",
   "metadata": {},
   "outputs": [],
   "source": []
  }
 ],
 "metadata": {
  "kernelspec": {
   "display_name": "Python 3 (ipykernel)",
   "language": "python",
   "name": "python3"
  },
  "language_info": {
   "codemirror_mode": {
    "name": "ipython",
    "version": 3
   },
   "file_extension": ".py",
   "mimetype": "text/x-python",
   "name": "python",
   "nbconvert_exporter": "python",
   "pygments_lexer": "ipython3",
   "version": "3.11.5"
  }
 },
 "nbformat": 4,
 "nbformat_minor": 5
}
