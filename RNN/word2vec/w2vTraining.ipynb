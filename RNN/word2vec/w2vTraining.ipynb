{
 "cells": [
  {
   "cell_type": "code",
   "execution_count": 1,
   "id": "29f9b26e-3f57-40b8-8d18-b4eb024eea36",
   "metadata": {},
   "outputs": [
    {
     "name": "stderr",
     "output_type": "stream",
     "text": [
      "/usr/lib/python3/dist-packages/paramiko/transport.py:236: CryptographyDeprecationWarning: Blowfish has been deprecated\n",
      "  \"class\": algorithms.Blowfish,\n"
     ]
    }
   ],
   "source": [
    "import gensim\n",
    "import pandas as pd"
   ]
  },
  {
   "cell_type": "code",
   "execution_count": 3,
   "id": "50f100dd-d3a5-477c-b4d9-3ff833d4ca58",
   "metadata": {},
   "outputs": [
    {
     "data": {
      "text/html": [
       "<div>\n",
       "<style scoped>\n",
       "    .dataframe tbody tr th:only-of-type {\n",
       "        vertical-align: middle;\n",
       "    }\n",
       "\n",
       "    .dataframe tbody tr th {\n",
       "        vertical-align: top;\n",
       "    }\n",
       "\n",
       "    .dataframe thead th {\n",
       "        text-align: right;\n",
       "    }\n",
       "</style>\n",
       "<table border=\"1\" class=\"dataframe\">\n",
       "  <thead>\n",
       "    <tr style=\"text-align: right;\">\n",
       "      <th></th>\n",
       "      <th>clean_text</th>\n",
       "      <th>category</th>\n",
       "    </tr>\n",
       "  </thead>\n",
       "  <tbody>\n",
       "    <tr>\n",
       "      <th>0</th>\n",
       "      <td>when modi promised “minimum government maximum...</td>\n",
       "      <td>-1.0</td>\n",
       "    </tr>\n",
       "    <tr>\n",
       "      <th>1</th>\n",
       "      <td>talk all the nonsense and continue all the dra...</td>\n",
       "      <td>0.0</td>\n",
       "    </tr>\n",
       "    <tr>\n",
       "      <th>2</th>\n",
       "      <td>what did just say vote for modi  welcome bjp t...</td>\n",
       "      <td>1.0</td>\n",
       "    </tr>\n",
       "    <tr>\n",
       "      <th>3</th>\n",
       "      <td>asking his supporters prefix chowkidar their n...</td>\n",
       "      <td>1.0</td>\n",
       "    </tr>\n",
       "    <tr>\n",
       "      <th>4</th>\n",
       "      <td>answer who among these the most powerful world...</td>\n",
       "      <td>1.0</td>\n",
       "    </tr>\n",
       "    <tr>\n",
       "      <th>...</th>\n",
       "      <td>...</td>\n",
       "      <td>...</td>\n",
       "    </tr>\n",
       "    <tr>\n",
       "      <th>162975</th>\n",
       "      <td>why these 456 crores paid neerav modi not reco...</td>\n",
       "      <td>-1.0</td>\n",
       "    </tr>\n",
       "    <tr>\n",
       "      <th>162976</th>\n",
       "      <td>dear rss terrorist payal gawar what about modi...</td>\n",
       "      <td>-1.0</td>\n",
       "    </tr>\n",
       "    <tr>\n",
       "      <th>162977</th>\n",
       "      <td>did you cover her interaction forum where she ...</td>\n",
       "      <td>0.0</td>\n",
       "    </tr>\n",
       "    <tr>\n",
       "      <th>162978</th>\n",
       "      <td>there big project came into india modi dream p...</td>\n",
       "      <td>0.0</td>\n",
       "    </tr>\n",
       "    <tr>\n",
       "      <th>162979</th>\n",
       "      <td>have you ever listen about like gurukul where ...</td>\n",
       "      <td>1.0</td>\n",
       "    </tr>\n",
       "  </tbody>\n",
       "</table>\n",
       "<p>162980 rows × 2 columns</p>\n",
       "</div>"
      ],
      "text/plain": [
       "                                               clean_text  category\n",
       "0       when modi promised “minimum government maximum...      -1.0\n",
       "1       talk all the nonsense and continue all the dra...       0.0\n",
       "2       what did just say vote for modi  welcome bjp t...       1.0\n",
       "3       asking his supporters prefix chowkidar their n...       1.0\n",
       "4       answer who among these the most powerful world...       1.0\n",
       "...                                                   ...       ...\n",
       "162975  why these 456 crores paid neerav modi not reco...      -1.0\n",
       "162976  dear rss terrorist payal gawar what about modi...      -1.0\n",
       "162977  did you cover her interaction forum where she ...       0.0\n",
       "162978  there big project came into india modi dream p...       0.0\n",
       "162979  have you ever listen about like gurukul where ...       1.0\n",
       "\n",
       "[162980 rows x 2 columns]"
      ]
     },
     "execution_count": 3,
     "metadata": {},
     "output_type": "execute_result"
    }
   ],
   "source": [
    "df = pd.read_csv(\"Twitter_Data.csv\")\n",
    "df"
   ]
  },
  {
   "cell_type": "code",
   "execution_count": 7,
   "id": "ff0ce227-d876-47d0-bd1b-d21c0bb9fa13",
   "metadata": {
    "scrolled": true
   },
   "outputs": [
    {
     "data": {
      "text/plain": [
       "['why',\n",
       " 'these',\n",
       " 'crores',\n",
       " 'paid',\n",
       " 'neerav',\n",
       " 'modi',\n",
       " 'not',\n",
       " 'recovered',\n",
       " 'from',\n",
       " 'congress',\n",
       " 'leaders',\n",
       " 'this',\n",
       " 'hard',\n",
       " 'earned',\n",
       " 'money',\n",
       " 'tax',\n",
       " 'payers']"
      ]
     },
     "execution_count": 7,
     "metadata": {},
     "output_type": "execute_result"
    }
   ],
   "source": [
    "gensim.utils.simple_preprocess(df['clean_text'][162975])"
   ]
  },
  {
   "cell_type": "code",
   "execution_count": 9,
   "id": "f00af72f-0906-450e-94c4-8f5f28745362",
   "metadata": {},
   "outputs": [],
   "source": [
    "df['clean_text'] = df['clean_text'].astype(str)"
   ]
  },
  {
   "cell_type": "code",
   "execution_count": 10,
   "id": "8e90ca5b-afe8-4ae2-9d5a-3e113f49d9e3",
   "metadata": {},
   "outputs": [],
   "source": [
    "text = df['clean_text'].apply(gensim.utils.simple_preprocess)"
   ]
  },
  {
   "cell_type": "code",
   "execution_count": 11,
   "id": "e8abba47-bd79-473b-8e5a-356f79bc04a7",
   "metadata": {},
   "outputs": [
    {
     "data": {
      "text/plain": [
       "0         [when, modi, promised, minimum, government, ma...\n",
       "1         [talk, all, the, nonsense, and, continue, all,...\n",
       "2         [what, did, just, say, vote, for, modi, welcom...\n",
       "3         [asking, his, supporters, prefix, chowkidar, t...\n",
       "4         [answer, who, among, these, the, most, powerfu...\n",
       "                                ...                        \n",
       "162975    [why, these, crores, paid, neerav, modi, not, ...\n",
       "162976    [dear, rss, terrorist, payal, gawar, what, abo...\n",
       "162977    [did, you, cover, her, interaction, forum, whe...\n",
       "162978    [there, big, project, came, into, india, modi,...\n",
       "162979    [have, you, ever, listen, about, like, gurukul...\n",
       "Name: clean_text, Length: 162980, dtype: object"
      ]
     },
     "execution_count": 11,
     "metadata": {},
     "output_type": "execute_result"
    }
   ],
   "source": [
    "text"
   ]
  },
  {
   "cell_type": "code",
   "execution_count": 16,
   "id": "d8bb56ef-5616-4499-8eec-a98c9ca204e1",
   "metadata": {},
   "outputs": [
    {
     "data": {
      "text/plain": [
       "['when',\n",
       " 'modi',\n",
       " 'promised',\n",
       " 'minimum',\n",
       " 'government',\n",
       " 'maximum',\n",
       " 'governance',\n",
       " 'expected',\n",
       " 'him',\n",
       " 'begin',\n",
       " 'the',\n",
       " 'difficult',\n",
       " 'job',\n",
       " 'reforming',\n",
       " 'the',\n",
       " 'state',\n",
       " 'why',\n",
       " 'does',\n",
       " 'take',\n",
       " 'years',\n",
       " 'get',\n",
       " 'justice',\n",
       " 'state',\n",
       " 'should',\n",
       " 'and',\n",
       " 'not',\n",
       " 'business',\n",
       " 'and',\n",
       " 'should',\n",
       " 'exit',\n",
       " 'psus',\n",
       " 'and',\n",
       " 'temples']"
      ]
     },
     "execution_count": 16,
     "metadata": {},
     "output_type": "execute_result"
    }
   ],
   "source": [
    "text[0]"
   ]
  },
  {
   "cell_type": "markdown",
   "id": "fd752f3b-5998-4292-a6ce-3841528726d4",
   "metadata": {},
   "source": [
    "**Training the Word2Vec Model**"
   ]
  },
  {
   "cell_type": "code",
   "execution_count": 17,
   "id": "640db0a3-fea6-4855-b247-1e1808c5a0b4",
   "metadata": {},
   "outputs": [],
   "source": [
    "model = gensim.models.Word2Vec(\n",
    "    window=10,\n",
    "    min_count=2,\n",
    "    workers=2,\n",
    ")"
   ]
  },
  {
   "cell_type": "code",
   "execution_count": 18,
   "id": "8fc30c6a-d16e-4e00-90f5-7694aa1dc649",
   "metadata": {},
   "outputs": [],
   "source": [
    "model.build_vocab(text, progress_per=1000)"
   ]
  },
  {
   "cell_type": "code",
   "execution_count": 19,
   "id": "5e7e39b9-4526-4e15-a5dd-a8d2d69357a2",
   "metadata": {},
   "outputs": [
    {
     "data": {
      "text/plain": [
       "162980"
      ]
     },
     "execution_count": 19,
     "metadata": {},
     "output_type": "execute_result"
    }
   ],
   "source": [
    "model.corpus_count"
   ]
  },
  {
   "cell_type": "code",
   "execution_count": 20,
   "id": "01872061-1d3b-48ae-b603-a17c747c7b94",
   "metadata": {},
   "outputs": [
    {
     "data": {
      "text/plain": [
       "5"
      ]
     },
     "execution_count": 20,
     "metadata": {},
     "output_type": "execute_result"
    }
   ],
   "source": [
    "model.epochs"
   ]
  },
  {
   "cell_type": "code",
   "execution_count": 21,
   "id": "5a477da7-e2c9-4bff-bc55-c38f05ac435f",
   "metadata": {},
   "outputs": [
    {
     "data": {
      "text/plain": [
       "(13218009, 16159860)"
      ]
     },
     "execution_count": 21,
     "metadata": {},
     "output_type": "execute_result"
    }
   ],
   "source": [
    "model.train(text, total_examples=model.corpus_count, epochs=model.epochs)"
   ]
  },
  {
   "cell_type": "code",
   "execution_count": 22,
   "id": "1b7158f0-ac46-4b1d-8671-d6d598b9b508",
   "metadata": {},
   "outputs": [],
   "source": [
    "model.save('./word2vec-twitter.model')"
   ]
  },
  {
   "cell_type": "code",
   "execution_count": 26,
   "id": "9837bf7a-bbc7-45d2-8560-4c7a0dc3c917",
   "metadata": {},
   "outputs": [
    {
     "data": {
      "text/plain": [
       "[('modis', 0.49161583185195923),\n",
       " ('modiji', 0.43370264768600464),\n",
       " ('him', 0.4186609387397766),\n",
       " ('mrmodi', 0.4064035415649414),\n",
       " ('limiting', 0.35713738203048706),\n",
       " ('mdi', 0.3444717526435852),\n",
       " ('pitamah', 0.332963764667511),\n",
       " ('materialize', 0.33093714714050293),\n",
       " ('rehash', 0.33019787073135376),\n",
       " ('shivered', 0.32471978664398193)]"
      ]
     },
     "execution_count": 26,
     "metadata": {},
     "output_type": "execute_result"
    }
   ],
   "source": [
    "model.wv.most_similar(\"modi\")"
   ]
  },
  {
   "cell_type": "code",
   "execution_count": 32,
   "id": "4112f951-fe64-4b24-9ea1-d287a9110d6a",
   "metadata": {},
   "outputs": [
    {
     "data": {
      "text/plain": [
       "0.19914436"
      ]
     },
     "execution_count": 32,
     "metadata": {},
     "output_type": "execute_result"
    }
   ],
   "source": [
    "model.wv.similarity(w1=\"modi\", w2=\"p\")"
   ]
  },
  {
   "cell_type": "code",
   "execution_count": null,
   "id": "405f6c05-5e6a-467f-92b0-b84db9831d8b",
   "metadata": {},
   "outputs": [],
   "source": []
  }
 ],
 "metadata": {
  "kernelspec": {
   "display_name": "Python 3 (ipykernel)",
   "language": "python",
   "name": "python3"
  },
  "language_info": {
   "codemirror_mode": {
    "name": "ipython",
    "version": 3
   },
   "file_extension": ".py",
   "mimetype": "text/x-python",
   "name": "python",
   "nbconvert_exporter": "python",
   "pygments_lexer": "ipython3",
   "version": "3.11.5"
  }
 },
 "nbformat": 4,
 "nbformat_minor": 5
}
