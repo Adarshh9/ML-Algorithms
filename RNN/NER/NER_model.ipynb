{
 "cells": [
  {
   "cell_type": "code",
   "execution_count": 1,
   "metadata": {},
   "outputs": [],
   "source": [
    "texts = [\n",
    "    \"Apple Inc. is planning to open a new store in Paris next month.\",\n",
    "    \"Microsoft Corporation announced a major acquisition yesterday.\",\n",
    "    \"The Eiffel Tower, located in Paris, attracts millions of tourists annually.\",\n",
    "    \"Elon Musk, the CEO of SpaceX, is known for his ambitious projects.\",\n",
    "    \"Japan will host the Olympic Games in 2022.\"\n",
    "]\n",
    "\n",
    "labels = [\n",
    "    [\"B-org\", \"I-org\", \"O\", \"O\", \"O\", \"O\", \"O\", \"O\", \"O\", \"B-geo\", \"O\", \"B-time\", \"I-time\"],\n",
    "    [\"B-org\", \"I-org\", \"O\", \"O\", \"O\", \"O\",\"B-time\"],\n",
    "    [\"O\", \"B-geo\", \"I-geo\", \"O\", \"O\", \"B-geo\", \"O\", \"O\", \"O\", \"O\", \"B-time\"],\n",
    "    [\"B-person\", \"I-person\", \"O\", \"O\", \"O\", \"B-org\", \"O\", \"O\", \"O\", \"O\", \"O\", \"O\"],\n",
    "    [\"B-geo\", \"O\", \"O\", \"O\", \"B-event\", \"I-event\", \"O\", \"B-time\"]\n",
    "]\n"
   ]
  },
  {
   "cell_type": "code",
   "execution_count": 2,
   "metadata": {},
   "outputs": [],
   "source": [
    "import re"
   ]
  },
  {
   "cell_type": "code",
   "execution_count": 3,
   "metadata": {},
   "outputs": [
    {
     "data": {
      "text/plain": [
       "['apple inc is planning to open a new store in paris next month',\n",
       " 'microsoft corporation announced a major acquisition yesterday',\n",
       " 'the eiffel tower located in paris attracts millions of tourists annually',\n",
       " 'elon musk the ceo of spacex is known for his ambitious projects',\n",
       " 'japan will host the olympic games in 2022']"
      ]
     },
     "execution_count": 3,
     "metadata": {},
     "output_type": "execute_result"
    }
   ],
   "source": [
    "processed_texts = [re.sub(r'[^a-z0-9\\s]', '', sentence.lower()) for sentence in texts]\n",
    "processed_texts"
   ]
  },
  {
   "cell_type": "code",
   "execution_count": 4,
   "metadata": {},
   "outputs": [
    {
     "data": {
      "text/plain": [
       "[['borg',\n",
       "  'iorg',\n",
       "  'o',\n",
       "  'o',\n",
       "  'o',\n",
       "  'o',\n",
       "  'o',\n",
       "  'o',\n",
       "  'o',\n",
       "  'bgeo',\n",
       "  'o',\n",
       "  'btime',\n",
       "  'itime'],\n",
       " ['borg', 'iorg', 'o', 'o', 'o', 'o', 'btime'],\n",
       " ['o', 'bgeo', 'igeo', 'o', 'o', 'bgeo', 'o', 'o', 'o', 'o', 'btime'],\n",
       " ['bperson', 'iperson', 'o', 'o', 'o', 'borg', 'o', 'o', 'o', 'o', 'o', 'o'],\n",
       " ['bgeo', 'o', 'o', 'o', 'bevent', 'ievent', 'o', 'btime']]"
      ]
     },
     "execution_count": 4,
     "metadata": {},
     "output_type": "execute_result"
    }
   ],
   "source": [
    "processed_labels = [[re.sub(r'[^a-z0-9\\s]', '', label.lower()) for label in sentence] for sentence in labels]\n",
    "processed_labels"
   ]
  },
  {
   "cell_type": "code",
   "execution_count": null,
   "metadata": {},
   "outputs": [],
   "source": []
  },
  {
   "cell_type": "code",
   "execution_count": 5,
   "metadata": {},
   "outputs": [
    {
     "name": "stderr",
     "output_type": "stream",
     "text": [
      "2023-12-28 13:33:05.262384: I tensorflow/tsl/cuda/cudart_stub.cc:28] Could not find cuda drivers on your machine, GPU will not be used.\n",
      "2023-12-28 13:33:05.327716: I tensorflow/tsl/cuda/cudart_stub.cc:28] Could not find cuda drivers on your machine, GPU will not be used.\n",
      "2023-12-28 13:33:05.328591: I tensorflow/core/platform/cpu_feature_guard.cc:182] This TensorFlow binary is optimized to use available CPU instructions in performance-critical operations.\n",
      "To enable the following instructions: AVX2 FMA, in other operations, rebuild TensorFlow with the appropriate compiler flags.\n",
      "2023-12-28 13:33:06.382346: W tensorflow/compiler/tf2tensorrt/utils/py_utils.cc:38] TF-TRT Warning: Could not find TensorRT\n"
     ]
    }
   ],
   "source": [
    "from keras.preprocessing.text import Tokenizer\n",
    "from keras.preprocessing.sequence import pad_sequences"
   ]
  },
  {
   "cell_type": "code",
   "execution_count": 6,
   "metadata": {},
   "outputs": [],
   "source": [
    "texts_tokenizer = Tokenizer()"
   ]
  },
  {
   "cell_type": "code",
   "execution_count": 7,
   "metadata": {},
   "outputs": [
    {
     "data": {
      "text/plain": [
       "{1: 'in',\n",
       " 2: 'the',\n",
       " 3: 'is',\n",
       " 4: 'a',\n",
       " 5: 'paris',\n",
       " 6: 'of',\n",
       " 7: 'apple',\n",
       " 8: 'inc',\n",
       " 9: 'planning',\n",
       " 10: 'to',\n",
       " 11: 'open',\n",
       " 12: 'new',\n",
       " 13: 'store',\n",
       " 14: 'next',\n",
       " 15: 'month',\n",
       " 16: 'microsoft',\n",
       " 17: 'corporation',\n",
       " 18: 'announced',\n",
       " 19: 'major',\n",
       " 20: 'acquisition',\n",
       " 21: 'yesterday',\n",
       " 22: 'eiffel',\n",
       " 23: 'tower',\n",
       " 24: 'located',\n",
       " 25: 'attracts',\n",
       " 26: 'millions',\n",
       " 27: 'tourists',\n",
       " 28: 'annually',\n",
       " 29: 'elon',\n",
       " 30: 'musk',\n",
       " 31: 'ceo',\n",
       " 32: 'spacex',\n",
       " 33: 'known',\n",
       " 34: 'for',\n",
       " 35: 'his',\n",
       " 36: 'ambitious',\n",
       " 37: 'projects',\n",
       " 38: 'japan',\n",
       " 39: 'will',\n",
       " 40: 'host',\n",
       " 41: 'olympic',\n",
       " 42: 'games',\n",
       " 43: '2022'}"
      ]
     },
     "execution_count": 7,
     "metadata": {},
     "output_type": "execute_result"
    }
   ],
   "source": [
    "texts_tokenizer.fit_on_texts(processed_texts)\n",
    "texts_tokenizer.index_word"
   ]
  },
  {
   "cell_type": "code",
   "execution_count": 8,
   "metadata": {},
   "outputs": [
    {
     "data": {
      "text/plain": [
       "[[7, 8, 3, 9, 10, 11, 4, 12, 13, 1, 5, 14, 15],\n",
       " [16, 17, 18, 4, 19, 20, 21],\n",
       " [2, 22, 23, 24, 1, 5, 25, 26, 6, 27, 28],\n",
       " [29, 30, 2, 31, 6, 32, 3, 33, 34, 35, 36, 37],\n",
       " [38, 39, 40, 2, 41, 42, 1, 43]]"
      ]
     },
     "execution_count": 8,
     "metadata": {},
     "output_type": "execute_result"
    }
   ],
   "source": [
    "text_sequences = texts_tokenizer.texts_to_sequences(processed_texts)\n",
    "text_sequences"
   ]
  },
  {
   "cell_type": "code",
   "execution_count": 9,
   "metadata": {},
   "outputs": [
    {
     "data": {
      "text/plain": [
       "44"
      ]
     },
     "execution_count": 9,
     "metadata": {},
     "output_type": "execute_result"
    }
   ],
   "source": [
    "vocab_size = len(texts_tokenizer.index_word) + 1\n",
    "vocab_size"
   ]
  },
  {
   "cell_type": "code",
   "execution_count": 10,
   "metadata": {},
   "outputs": [
    {
     "data": {
      "text/plain": [
       "[13, 7, 11, 12, 8]"
      ]
     },
     "execution_count": 10,
     "metadata": {},
     "output_type": "execute_result"
    }
   ],
   "source": [
    "x = []\n",
    "for i in text_sequences:\n",
    "    x.append(len(i))\n",
    "max_len_sequences = max(x)\n",
    "x"
   ]
  },
  {
   "cell_type": "code",
   "execution_count": 11,
   "metadata": {},
   "outputs": [
    {
     "data": {
      "text/plain": [
       "array([[ 7,  8,  3,  9, 10, 11,  4, 12, 13,  1,  5, 14, 15],\n",
       "       [16, 17, 18,  4, 19, 20, 21,  0,  0,  0,  0,  0,  0],\n",
       "       [ 2, 22, 23, 24,  1,  5, 25, 26,  6, 27, 28,  0,  0],\n",
       "       [29, 30,  2, 31,  6, 32,  3, 33, 34, 35, 36, 37,  0],\n",
       "       [38, 39, 40,  2, 41, 42,  1, 43,  0,  0,  0,  0,  0]], dtype=int32)"
      ]
     },
     "execution_count": 11,
     "metadata": {},
     "output_type": "execute_result"
    }
   ],
   "source": [
    "padded_text_sequences = pad_sequences(sequences=text_sequences , maxlen=max_len_sequences , padding=\"post\")\n",
    "padded_text_sequences"
   ]
  },
  {
   "cell_type": "code",
   "execution_count": null,
   "metadata": {},
   "outputs": [],
   "source": []
  },
  {
   "cell_type": "code",
   "execution_count": 12,
   "metadata": {},
   "outputs": [],
   "source": [
    "flat_labels = [label for sublist in processed_labels for label in sublist]"
   ]
  },
  {
   "cell_type": "code",
   "execution_count": 13,
   "metadata": {},
   "outputs": [
    {
     "data": {
      "text/plain": [
       "{'bgeo': 0,\n",
       " 'o': 1,\n",
       " 'borg': 2,\n",
       " 'bperson': 3,\n",
       " 'btime': 4,\n",
       " 'iorg': 5,\n",
       " 'itime': 6,\n",
       " 'bevent': 7,\n",
       " 'ievent': 8,\n",
       " 'iperson': 9,\n",
       " 'igeo': 10}"
      ]
     },
     "execution_count": 13,
     "metadata": {},
     "output_type": "execute_result"
    }
   ],
   "source": [
    "label_mapping = {label: idx for idx, label in enumerate(set(flat_labels))}\n",
    "label_mapping"
   ]
  },
  {
   "cell_type": "code",
   "execution_count": 14,
   "metadata": {},
   "outputs": [
    {
     "data": {
      "text/plain": [
       "[[2, 5, 1, 1, 1, 1, 1, 1, 1, 0, 1, 4, 6],\n",
       " [2, 5, 1, 1, 1, 1, 4],\n",
       " [1, 0, 10, 1, 1, 0, 1, 1, 1, 1, 4],\n",
       " [3, 9, 1, 1, 1, 2, 1, 1, 1, 1, 1, 1],\n",
       " [0, 1, 1, 1, 7, 8, 1, 4]]"
      ]
     },
     "execution_count": 14,
     "metadata": {},
     "output_type": "execute_result"
    }
   ],
   "source": [
    "labels_indices = [\n",
    "    [label_mapping[label] for label in sentence] for sentence in processed_labels\n",
    "]\n",
    "labels_indices"
   ]
  },
  {
   "cell_type": "code",
   "execution_count": 15,
   "metadata": {},
   "outputs": [
    {
     "data": {
      "text/plain": [
       "[13, 7, 11, 12, 8]"
      ]
     },
     "execution_count": 15,
     "metadata": {},
     "output_type": "execute_result"
    }
   ],
   "source": [
    "x "
   ]
  },
  {
   "cell_type": "code",
   "execution_count": 16,
   "metadata": {},
   "outputs": [
    {
     "data": {
      "text/plain": [
       "13"
      ]
     },
     "execution_count": 16,
     "metadata": {},
     "output_type": "execute_result"
    }
   ],
   "source": [
    "y = []\n",
    "for i in labels_indices:\n",
    "    y.append(len(i))\n",
    "max_len_sequences = max(y)\n",
    "max_len_sequences"
   ]
  },
  {
   "cell_type": "code",
   "execution_count": 17,
   "metadata": {},
   "outputs": [
    {
     "data": {
      "text/plain": [
       "[13, 7, 11, 12, 8]"
      ]
     },
     "execution_count": 17,
     "metadata": {},
     "output_type": "execute_result"
    }
   ],
   "source": [
    "y"
   ]
  },
  {
   "cell_type": "code",
   "execution_count": 18,
   "metadata": {},
   "outputs": [
    {
     "data": {
      "text/plain": [
       "13"
      ]
     },
     "execution_count": 18,
     "metadata": {},
     "output_type": "execute_result"
    }
   ],
   "source": [
    "max_label_length = max(len(seq) for seq in labels_indices)\n",
    "max_label_length"
   ]
  },
  {
   "cell_type": "code",
   "execution_count": 19,
   "metadata": {},
   "outputs": [
    {
     "data": {
      "text/plain": [
       "array([[ 2,  5,  1,  1,  1,  1,  1,  1,  1,  0,  1,  4,  6],\n",
       "       [ 2,  5,  1,  1,  1,  1,  4,  0,  0,  0,  0,  0,  0],\n",
       "       [ 1,  0, 10,  1,  1,  0,  1,  1,  1,  1,  4,  0,  0],\n",
       "       [ 3,  9,  1,  1,  1,  2,  1,  1,  1,  1,  1,  1,  0],\n",
       "       [ 0,  1,  1,  1,  7,  8,  1,  4,  0,  0,  0,  0,  0]], dtype=int32)"
      ]
     },
     "execution_count": 19,
     "metadata": {},
     "output_type": "execute_result"
    }
   ],
   "source": [
    "padded_label_sequences = pad_sequences(sequences=labels_indices , padding='post' , value=0 , maxlen=max_label_length)\n",
    "padded_label_sequences"
   ]
  },
  {
   "cell_type": "code",
   "execution_count": 20,
   "metadata": {},
   "outputs": [
    {
     "data": {
      "text/plain": [
       "array([2, 5, 1, 1, 1, 1, 1, 1, 1, 0, 1, 4, 6], dtype=int32)"
      ]
     },
     "execution_count": 20,
     "metadata": {},
     "output_type": "execute_result"
    }
   ],
   "source": [
    "padded_label_sequences[0]"
   ]
  },
  {
   "cell_type": "code",
   "execution_count": 21,
   "metadata": {},
   "outputs": [
    {
     "data": {
      "text/plain": [
       "array([ 7,  8,  3,  9, 10, 11,  4, 12, 13,  1,  5, 14, 15], dtype=int32)"
      ]
     },
     "execution_count": 21,
     "metadata": {},
     "output_type": "execute_result"
    }
   ],
   "source": [
    "padded_text_sequences[0]"
   ]
  },
  {
   "cell_type": "code",
   "execution_count": 22,
   "metadata": {},
   "outputs": [
    {
     "data": {
      "text/plain": [
       "11"
      ]
     },
     "execution_count": 22,
     "metadata": {},
     "output_type": "execute_result"
    }
   ],
   "source": [
    "num_classes = len(label_mapping)\n",
    "num_classes"
   ]
  },
  {
   "cell_type": "code",
   "execution_count": 23,
   "metadata": {},
   "outputs": [],
   "source": [
    "import numpy as np\n",
    "from keras.models import Sequential\n",
    "from keras.layers import Embedding, LSTM, Dense , Bidirectional ,Dropout"
   ]
  },
  {
   "cell_type": "code",
   "execution_count": 24,
   "metadata": {},
   "outputs": [],
   "source": [
    "model = Sequential([\n",
    "    Embedding( input_dim=vocab_size , output_dim=50 , input_length=max_len_sequences),\n",
    "    Bidirectional(LSTM(300,return_sequences=True)),\n",
    "    Dropout(0.2),\n",
    "    Bidirectional(LSTM(200,return_sequences=True)),\n",
    "    Dropout(0.2),\n",
    "    Bidirectional(LSTM(100,return_sequences=True)),\n",
    "    Dropout(0.2),\n",
    "    Dense( units=num_classes , activation=\"softmax\")\n",
    "])\n",
    "\n",
    "model.compile(\n",
    "    optimizer='adam', loss='sparse_categorical_crossentropy', metrics=['accuracy']\n",
    ")"
   ]
  },
  {
   "cell_type": "code",
   "execution_count": 25,
   "metadata": {},
   "outputs": [
    {
     "name": "stdout",
     "output_type": "stream",
     "text": [
      "Model: \"sequential\"\n",
      "_________________________________________________________________\n",
      " Layer (type)                Output Shape              Param #   \n",
      "=================================================================\n",
      " embedding (Embedding)       (None, 13, 50)            2200      \n",
      "                                                                 \n",
      " bidirectional (Bidirection  (None, 13, 600)           842400    \n",
      " al)                                                             \n",
      "                                                                 \n",
      " dropout (Dropout)           (None, 13, 600)           0         \n",
      "                                                                 \n",
      " bidirectional_1 (Bidirecti  (None, 13, 400)           1281600   \n",
      " onal)                                                           \n",
      "                                                                 \n",
      " dropout_1 (Dropout)         (None, 13, 400)           0         \n",
      "                                                                 \n",
      " bidirectional_2 (Bidirecti  (None, 13, 200)           400800    \n",
      " onal)                                                           \n",
      "                                                                 \n",
      " dropout_2 (Dropout)         (None, 13, 200)           0         \n",
      "                                                                 \n",
      " dense (Dense)               (None, 13, 11)            2211      \n",
      "                                                                 \n",
      "=================================================================\n",
      "Total params: 2529211 (9.65 MB)\n",
      "Trainable params: 2529211 (9.65 MB)\n",
      "Non-trainable params: 0 (0.00 Byte)\n",
      "_________________________________________________________________\n"
     ]
    }
   ],
   "source": [
    "model.summary()"
   ]
  },
  {
   "cell_type": "code",
   "execution_count": 26,
   "metadata": {},
   "outputs": [],
   "source": [
    "X_train = padded_text_sequences\n",
    "Y_train = padded_label_sequences"
   ]
  },
  {
   "cell_type": "code",
   "execution_count": 27,
   "metadata": {},
   "outputs": [
    {
     "data": {
      "text/plain": [
       "array([[ 7,  8,  3,  9, 10, 11,  4, 12, 13,  1,  5, 14, 15],\n",
       "       [16, 17, 18,  4, 19, 20, 21,  0,  0,  0,  0,  0,  0],\n",
       "       [ 2, 22, 23, 24,  1,  5, 25, 26,  6, 27, 28,  0,  0],\n",
       "       [29, 30,  2, 31,  6, 32,  3, 33, 34, 35, 36, 37,  0],\n",
       "       [38, 39, 40,  2, 41, 42,  1, 43,  0,  0,  0,  0,  0]], dtype=int32)"
      ]
     },
     "execution_count": 27,
     "metadata": {},
     "output_type": "execute_result"
    }
   ],
   "source": [
    "X_train "
   ]
  },
  {
   "cell_type": "code",
   "execution_count": 28,
   "metadata": {},
   "outputs": [
    {
     "data": {
      "text/plain": [
       "array([[ 2,  5,  1,  1,  1,  1,  1,  1,  1,  0,  1,  4,  6],\n",
       "       [ 2,  5,  1,  1,  1,  1,  4,  0,  0,  0,  0,  0,  0],\n",
       "       [ 1,  0, 10,  1,  1,  0,  1,  1,  1,  1,  4,  0,  0],\n",
       "       [ 3,  9,  1,  1,  1,  2,  1,  1,  1,  1,  1,  1,  0],\n",
       "       [ 0,  1,  1,  1,  7,  8,  1,  4,  0,  0,  0,  0,  0]], dtype=int32)"
      ]
     },
     "execution_count": 28,
     "metadata": {},
     "output_type": "execute_result"
    }
   ],
   "source": [
    "Y_train"
   ]
  },
  {
   "cell_type": "code",
   "execution_count": 29,
   "metadata": {},
   "outputs": [],
   "source": [
    "# Y_train = np.eye(num_classes)[Y_train]"
   ]
  },
  {
   "cell_type": "code",
   "execution_count": 30,
   "metadata": {},
   "outputs": [
    {
     "name": "stdout",
     "output_type": "stream",
     "text": [
      "Epoch 1/50\n"
     ]
    },
    {
     "name": "stdout",
     "output_type": "stream",
     "text": [
      "1/1 [==============================] - 13s 13s/step - loss: 2.4008 - accuracy: 0.0154\n",
      "Epoch 2/50\n",
      "1/1 [==============================] - 0s 166ms/step - loss: 2.3602 - accuracy: 0.6462\n",
      "Epoch 3/50\n",
      "1/1 [==============================] - 0s 188ms/step - loss: 2.3008 - accuracy: 0.6308\n",
      "Epoch 4/50\n",
      "1/1 [==============================] - 0s 147ms/step - loss: 2.1878 - accuracy: 0.6308\n",
      "Epoch 5/50\n",
      "1/1 [==============================] - 0s 135ms/step - loss: 1.9812 - accuracy: 0.6000\n",
      "Epoch 6/50\n",
      "1/1 [==============================] - 0s 148ms/step - loss: 1.6452 - accuracy: 0.5692\n",
      "Epoch 7/50\n",
      "1/1 [==============================] - 0s 148ms/step - loss: 1.4336 - accuracy: 0.5846\n",
      "Epoch 8/50\n",
      "1/1 [==============================] - 0s 136ms/step - loss: 1.5523 - accuracy: 0.6308\n",
      "Epoch 9/50\n",
      "1/1 [==============================] - 0s 125ms/step - loss: 1.5312 - accuracy: 0.6308\n",
      "Epoch 10/50\n",
      "1/1 [==============================] - 0s 139ms/step - loss: 1.4319 - accuracy: 0.6154\n",
      "Epoch 11/50\n",
      "1/1 [==============================] - 0s 136ms/step - loss: 1.3078 - accuracy: 0.6615\n",
      "Epoch 12/50\n",
      "1/1 [==============================] - 0s 133ms/step - loss: 1.2728 - accuracy: 0.6154\n",
      "Epoch 13/50\n",
      "1/1 [==============================] - 0s 135ms/step - loss: 1.2183 - accuracy: 0.6308\n",
      "Epoch 14/50\n",
      "1/1 [==============================] - 0s 126ms/step - loss: 1.2609 - accuracy: 0.6462\n",
      "Epoch 15/50\n",
      "1/1 [==============================] - 0s 138ms/step - loss: 1.2116 - accuracy: 0.6615\n",
      "Epoch 16/50\n",
      "1/1 [==============================] - 0s 132ms/step - loss: 1.1784 - accuracy: 0.6615\n",
      "Epoch 17/50\n",
      "1/1 [==============================] - 0s 124ms/step - loss: 1.1443 - accuracy: 0.6923\n",
      "Epoch 18/50\n",
      "1/1 [==============================] - 0s 125ms/step - loss: 1.1058 - accuracy: 0.7077\n",
      "Epoch 19/50\n",
      "1/1 [==============================] - 0s 125ms/step - loss: 1.0696 - accuracy: 0.7077\n",
      "Epoch 20/50\n",
      "1/1 [==============================] - 0s 126ms/step - loss: 1.1068 - accuracy: 0.6615\n",
      "Epoch 21/50\n",
      "1/1 [==============================] - 0s 123ms/step - loss: 1.0786 - accuracy: 0.6923\n",
      "Epoch 22/50\n",
      "1/1 [==============================] - 0s 126ms/step - loss: 1.0423 - accuracy: 0.7077\n",
      "Epoch 23/50\n",
      "1/1 [==============================] - 0s 127ms/step - loss: 1.0363 - accuracy: 0.6769\n",
      "Epoch 24/50\n",
      "1/1 [==============================] - 0s 127ms/step - loss: 0.9860 - accuracy: 0.7077\n",
      "Epoch 25/50\n",
      "1/1 [==============================] - 0s 177ms/step - loss: 0.9946 - accuracy: 0.7231\n",
      "Epoch 26/50\n",
      "1/1 [==============================] - 0s 138ms/step - loss: 0.9501 - accuracy: 0.7077\n",
      "Epoch 27/50\n",
      "1/1 [==============================] - 0s 117ms/step - loss: 0.9795 - accuracy: 0.6769\n",
      "Epoch 28/50\n",
      "1/1 [==============================] - 0s 117ms/step - loss: 0.9521 - accuracy: 0.6923\n",
      "Epoch 29/50\n",
      "1/1 [==============================] - 0s 115ms/step - loss: 0.9380 - accuracy: 0.6923\n",
      "Epoch 30/50\n",
      "1/1 [==============================] - 0s 128ms/step - loss: 0.9766 - accuracy: 0.6769\n",
      "Epoch 31/50\n",
      "1/1 [==============================] - 0s 127ms/step - loss: 0.9398 - accuracy: 0.7077\n",
      "Epoch 32/50\n",
      "1/1 [==============================] - 0s 126ms/step - loss: 0.9137 - accuracy: 0.6923\n",
      "Epoch 33/50\n",
      "1/1 [==============================] - 0s 184ms/step - loss: 0.8922 - accuracy: 0.7077\n",
      "Epoch 34/50\n",
      "1/1 [==============================] - 0s 183ms/step - loss: 0.9042 - accuracy: 0.6923\n",
      "Epoch 35/50\n",
      "1/1 [==============================] - 0s 197ms/step - loss: 0.9020 - accuracy: 0.6615\n",
      "Epoch 36/50\n",
      "1/1 [==============================] - 0s 179ms/step - loss: 0.8715 - accuracy: 0.6923\n",
      "Epoch 37/50\n",
      "1/1 [==============================] - 0s 132ms/step - loss: 0.8552 - accuracy: 0.6769\n",
      "Epoch 38/50\n",
      "1/1 [==============================] - 0s 118ms/step - loss: 0.8897 - accuracy: 0.6615\n",
      "Epoch 39/50\n",
      "1/1 [==============================] - 0s 115ms/step - loss: 0.8149 - accuracy: 0.7385\n",
      "Epoch 40/50\n",
      "1/1 [==============================] - 0s 112ms/step - loss: 0.8404 - accuracy: 0.7077\n",
      "Epoch 41/50\n",
      "1/1 [==============================] - 0s 116ms/step - loss: 0.8077 - accuracy: 0.7385\n",
      "Epoch 42/50\n",
      "1/1 [==============================] - 0s 116ms/step - loss: 0.8548 - accuracy: 0.6615\n",
      "Epoch 43/50\n",
      "1/1 [==============================] - 0s 114ms/step - loss: 0.7743 - accuracy: 0.7692\n",
      "Epoch 44/50\n",
      "1/1 [==============================] - 0s 132ms/step - loss: 0.7716 - accuracy: 0.7692\n",
      "Epoch 45/50\n",
      "1/1 [==============================] - 0s 125ms/step - loss: 0.7575 - accuracy: 0.7846\n",
      "Epoch 46/50\n",
      "1/1 [==============================] - 0s 200ms/step - loss: 0.7567 - accuracy: 0.7231\n",
      "Epoch 47/50\n",
      "1/1 [==============================] - 0s 198ms/step - loss: 0.7356 - accuracy: 0.7385\n",
      "Epoch 48/50\n",
      "1/1 [==============================] - 0s 136ms/step - loss: 0.7055 - accuracy: 0.7385\n",
      "Epoch 49/50\n",
      "1/1 [==============================] - 0s 114ms/step - loss: 0.7343 - accuracy: 0.7385\n",
      "Epoch 50/50\n",
      "1/1 [==============================] - 0s 117ms/step - loss: 0.7228 - accuracy: 0.7692\n"
     ]
    },
    {
     "data": {
      "text/plain": [
       "<keras.src.callbacks.History at 0x7f7db750d0d0>"
      ]
     },
     "execution_count": 30,
     "metadata": {},
     "output_type": "execute_result"
    }
   ],
   "source": [
    "model.fit(X_train, Y_train, epochs=50)"
   ]
  },
  {
   "cell_type": "code",
   "execution_count": null,
   "metadata": {},
   "outputs": [],
   "source": []
  },
  {
   "cell_type": "code",
   "execution_count": 31,
   "metadata": {},
   "outputs": [],
   "source": [
    "tokenizer = Tokenizer()"
   ]
  },
  {
   "cell_type": "code",
   "execution_count": 38,
   "metadata": {},
   "outputs": [
    {
     "name": "stdout",
     "output_type": "stream",
     "text": [
      "1/1 [==============================] - 0s 54ms/step\n",
      "\n",
      "predictions : [[[1.55327737e-01 2.74194032e-01 2.43364587e-01 6.16074279e-02\n",
      "   4.54832800e-03 1.30341396e-01 5.57034789e-03 1.23870028e-02\n",
      "   4.41347435e-03 6.30896762e-02 4.51559797e-02]\n",
      "  [1.09702691e-01 5.64450383e-01 1.54854849e-01 1.65538471e-02\n",
      "   2.01715040e-03 8.18842277e-02 2.02198373e-03 8.27179849e-03\n",
      "   2.24882015e-03 2.74631884e-02 3.05310413e-02]\n",
      "  [6.89294040e-02 7.82149613e-01 8.24826509e-02 3.35199502e-03\n",
      "   8.00034439e-04 3.37042212e-02 6.68699562e-04 4.35456960e-03\n",
      "   1.03080668e-03 8.23338982e-03 1.42947007e-02]\n",
      "  [4.77131344e-02 8.82050574e-01 4.50640768e-02 7.46807840e-04\n",
      "   3.75271164e-04 1.21745383e-02 2.67904834e-04 2.37359572e-03\n",
      "   5.63889451e-04 2.56965542e-03 6.10059220e-03]\n",
      "  [3.89891304e-02 9.23956275e-01 2.60890294e-02 2.18456626e-04\n",
      "   2.42380178e-04 4.62496048e-03 1.50444321e-04 1.58543128e-03\n",
      "   3.94907460e-04 9.87974112e-04 2.76097003e-03]\n",
      "  [3.75198461e-02 9.41299319e-01 1.51397465e-02 8.41194487e-05\n",
      "   2.38549808e-04 2.01789662e-03 1.23478254e-04 1.35788124e-03\n",
      "   3.50532646e-04 4.49893065e-04 1.41865714e-03]\n",
      "  [4.43314128e-02 9.42107201e-01 8.91872961e-03 4.28660132e-05\n",
      "   3.92893155e-04 1.05940923e-03 1.55833593e-04 1.48616289e-03\n",
      "   4.23043733e-04 2.36590611e-04 8.45844217e-04]\n",
      "  [7.90701956e-02 9.09038901e-01 5.94149018e-03 3.30779185e-05\n",
      "   1.24515104e-03 7.44023651e-04 3.68356705e-04 2.00550165e-03\n",
      "   7.23683916e-04 1.65884820e-04 6.63756044e-04]\n",
      "  [1.88569784e-01 7.92704761e-01 4.50958265e-03 3.83852275e-05\n",
      "   6.73514698e-03 7.20383250e-04 1.55694748e-03 2.86382437e-03\n",
      "   1.44192879e-03 1.54064983e-04 7.05203507e-04]\n",
      "  [3.31112772e-01 6.11102343e-01 3.29744210e-03 5.44867726e-05\n",
      "   3.84273976e-02 8.51306773e-04 7.80540612e-03 3.63473874e-03\n",
      "   2.70114583e-03 1.62408425e-04 8.50451470e-04]\n",
      "  [3.70021641e-01 4.04762834e-01 2.42647016e-03 8.55352773e-05\n",
      "   1.75965086e-01 9.17338126e-04 3.65716182e-02 3.73340258e-03\n",
      "   4.48857201e-03 1.91759478e-04 8.35562474e-04]\n",
      "  [3.02194715e-01 1.83743119e-01 1.32467749e-03 1.20590943e-04\n",
      "   3.79927009e-01 7.74089596e-04 1.23640083e-01 2.70426786e-03\n",
      "   4.79474571e-03 1.82869917e-04 5.93853649e-04]\n",
      "  [2.92825788e-01 5.86775243e-02 7.98154448e-04 2.01802060e-04\n",
      "   2.70185918e-01 7.26558443e-04 3.69894654e-01 1.92162604e-03\n",
      "   3.96671379e-03 2.24648320e-04 5.76707767e-04]]\n",
      "\n",
      " [[2.14395925e-01 2.89701134e-01 1.50308758e-01 1.13049364e-02\n",
      "   6.56904653e-03 2.15742901e-01 1.16184261e-03 4.31398153e-02\n",
      "   1.63900442e-02 8.87312554e-03 4.24123816e-02]\n",
      "  [1.03059128e-01 5.46474040e-01 7.67979771e-02 3.79845244e-03\n",
      "   5.95490029e-03 1.46389395e-01 5.86286886e-04 6.59818500e-02\n",
      "   2.02119593e-02 3.87468189e-03 2.68712528e-02]\n",
      "  [4.30206582e-02 7.33691454e-01 2.77242158e-02 1.19986769e-03\n",
      "   6.73163589e-03 5.53706624e-02 3.47314723e-04 8.88279453e-02\n",
      "   2.94277482e-02 1.41860114e-03 1.22399740e-02]\n",
      "  [2.29543969e-02 7.83607185e-01 1.00083472e-02 4.70848114e-04\n",
      "   1.10028321e-02 1.92610268e-02 3.20543157e-04 9.82465744e-02\n",
      "   4.76951227e-02 6.63452200e-04 5.76959830e-03]\n",
      "  [2.18588579e-02 7.44923294e-01 4.20971401e-03 3.02031462e-04\n",
      "   3.38467434e-02 8.96686688e-03 5.65505121e-04 9.49144885e-02\n",
      "   8.60025510e-02 4.81235475e-04 3.92861571e-03]\n",
      "  [5.01731038e-02 5.30501962e-01 2.23663519e-03 3.02194938e-04\n",
      "   1.91569537e-01 4.90752701e-03 1.89322326e-03 8.14231187e-02\n",
      "   1.33006915e-01 4.99150716e-04 3.48655996e-03]\n",
      "  [1.99519783e-01 1.09552741e-01 1.07518968e-03 2.94943369e-04\n",
      "   5.77990711e-01 1.59080885e-03 4.97796014e-03 3.19749601e-02\n",
      "   7.06998929e-02 3.27245769e-04 1.99568481e-03]\n",
      "  [6.92552626e-01 6.67348877e-03 3.33563075e-04 1.72278611e-04\n",
      "   2.77659655e-01 3.10289965e-04 4.65925690e-03 5.70025761e-03\n",
      "   1.12373689e-02 9.01324383e-05 6.11258554e-04]\n",
      "  [9.39046741e-01 6.34252559e-04 7.91569910e-05 6.42118903e-05\n",
      "   5.46186119e-02 8.03480361e-05 2.37730658e-03 1.07386080e-03\n",
      "   1.85963698e-03 2.05784454e-05 1.45271610e-04]\n",
      "  [9.75786805e-01 2.03292482e-04 3.61648636e-05 3.77216347e-05\n",
      "   2.09173039e-02 4.10996108e-05 1.71573460e-03 4.26664046e-04\n",
      "   7.58462469e-04 9.68576751e-06 6.70963127e-05]\n",
      "  [9.85082567e-01 1.14527516e-04 2.64253158e-05 3.07697410e-05\n",
      "   1.22832889e-02 2.82416095e-05 1.64999382e-03 2.46558164e-04\n",
      "   4.81123250e-04 7.42416023e-06 4.90432722e-05]\n",
      "  [9.89232063e-01 8.03703224e-05 2.57742740e-05 3.24775901e-05\n",
      "   7.93220941e-03 2.34738327e-05 2.10016500e-03 1.67163336e-04\n",
      "   3.50832124e-04 7.85480461e-06 4.75353954e-05]\n",
      "  [9.88878787e-01 8.49240460e-05 4.27821833e-05 5.99195773e-05\n",
      "   5.69392648e-03 3.25411347e-05 4.61109728e-03 1.68267201e-04\n",
      "   3.30994924e-04 1.57635168e-05 8.09363773e-05]]\n",
      "\n",
      " [[3.10124546e-01 1.80654183e-01 1.47554502e-01 5.05613051e-02\n",
      "   5.65643655e-03 1.63097769e-01 3.51579697e-03 1.70661621e-02\n",
      "   8.41348153e-03 3.57272886e-02 7.76285827e-02]\n",
      "  [2.60731786e-01 3.38997513e-01 1.15376562e-01 2.36037988e-02\n",
      "   3.78867076e-03 1.37888387e-01 1.93291949e-03 1.52480379e-02\n",
      "   6.82859821e-03 2.48375237e-02 7.07662329e-02]\n",
      "  [1.97970122e-01 5.30941784e-01 8.22371617e-02 9.15790722e-03\n",
      "   2.47252290e-03 9.46853980e-02 1.05396600e-03 1.31438738e-02\n",
      "   5.29862102e-03 1.34253791e-02 4.96133529e-02]\n",
      "  [1.39438108e-01 6.92946076e-01 5.47352880e-02 3.29891150e-03\n",
      "   1.70705642e-03 5.61879165e-02 5.94627752e-04 1.15601579e-02\n",
      "   4.25658748e-03 6.18283171e-03 2.90924497e-02]\n",
      "  [9.41750258e-02 8.03930044e-01 3.48248966e-02 1.22806593e-03\n",
      "   1.40033965e-03 3.04802675e-02 3.76482785e-04 1.12751080e-02\n",
      "   3.98471346e-03 2.67515657e-03 1.56499352e-02]\n",
      "  [6.09230697e-02 8.74688447e-01 2.01081894e-02 5.02501614e-04\n",
      "   1.53333205e-03 1.53289791e-02 2.84030277e-04 1.27031468e-02\n",
      "   4.69449768e-03 1.14389230e-03 8.08996987e-03]\n",
      "  [4.08897884e-02 9.10334051e-01 9.82255396e-03 2.50375888e-04\n",
      "   2.63943966e-03 7.55303586e-03 2.93220859e-04 1.61945056e-02\n",
      "   7.16353115e-03 5.49567631e-04 4.30986984e-03]\n",
      "  [3.67425047e-02 9.06304002e-01 4.26506577e-03 1.79053299e-04\n",
      "   9.09897964e-03 3.88562609e-03 5.48757031e-04 2.18016356e-02\n",
      "   1.41352490e-02 3.65059765e-04 2.67394236e-03]\n",
      "  [5.68491071e-02 8.19659531e-01 2.08114507e-03 1.88509352e-04\n",
      "   6.06979877e-02 2.38494016e-03 2.09958921e-03 2.51454916e-02\n",
      "   2.84108128e-02 3.47811671e-04 2.13503186e-03]\n",
      "  [1.43034726e-01 4.06525135e-01 1.31548371e-03 2.25716140e-04\n",
      "   3.83390725e-01 1.40925020e-03 1.15688071e-02 1.70177892e-02\n",
      "   3.33807394e-02 3.48727743e-04 1.78291241e-03]\n",
      "  [3.86276364e-01 5.03698103e-02 6.72794122e-04 1.94479027e-04\n",
      "   5.12289226e-01 5.26471762e-04 3.09394263e-02 4.79934597e-03\n",
      "   1.28620472e-02 1.93651824e-04 8.76417675e-04]\n",
      "  [8.84397507e-01 2.06842483e-03 1.92805936e-04 1.10566762e-04\n",
      "   8.98600146e-02 1.18339129e-04 2.00791359e-02 7.95016997e-04\n",
      "   2.04719207e-03 5.81852401e-05 2.72785866e-04]\n",
      "  [9.71726894e-01 2.59600056e-04 8.92013704e-05 9.00517480e-05\n",
      "   1.38507122e-02 5.17958797e-05 1.29824616e-02 2.59298948e-04\n",
      "   5.06205775e-04 3.28117167e-05 1.50877779e-04]]\n",
      "\n",
      " [[3.27062197e-02 1.04630776e-01 1.37791291e-01 3.04827303e-01\n",
      "   2.93010077e-03 5.15654199e-02 1.77097488e-02 6.54863752e-03\n",
      "   5.23496419e-03 2.97110647e-01 3.89449596e-02]\n",
      "  [2.92443503e-02 2.55871415e-01 1.51208326e-01 1.73547491e-01\n",
      "   2.04453943e-03 5.19002266e-02 1.14104543e-02 5.74958045e-03\n",
      "   3.58755956e-03 2.75568992e-01 3.98669913e-02]\n",
      "  [2.51114499e-02 4.83072162e-01 1.59591302e-01 7.33526722e-02\n",
      "   1.32449204e-03 4.06445414e-02 6.33141445e-03 4.58842563e-03\n",
      "   2.17430457e-03 1.73336342e-01 3.04728057e-02]\n",
      "  [2.03322042e-02 6.71207249e-01 1.52129993e-01 2.46909037e-02\n",
      "   7.75924302e-04 2.56474167e-02 2.99321697e-03 3.24185449e-03\n",
      "   1.23233639e-03 7.97715187e-02 1.79774612e-02]\n",
      "  [1.69843156e-02 7.79664099e-01 1.31757319e-01 8.07068124e-03\n",
      "   4.54944675e-04 1.48610966e-02 1.40664668e-03 2.32397276e-03\n",
      "   7.70409824e-04 3.38530727e-02 9.85336397e-03]\n",
      "  [1.55031793e-02 8.50223064e-01 1.00269839e-01 2.68355967e-03\n",
      "   2.78709049e-04 8.44926201e-03 6.81593956e-04 1.76027545e-03\n",
      "   5.53705380e-04 1.39147704e-02 5.68209821e-03]\n",
      "  [1.54064260e-02 9.08016562e-01 6.09104410e-02 7.90052174e-04\n",
      "   1.76428453e-04 4.54342226e-03 3.12464981e-04 1.30212505e-03\n",
      "   4.21441946e-04 4.70730336e-03 3.41333309e-03]\n",
      "  [1.59985423e-02 9.45380807e-01 3.10441032e-02 2.22690025e-04\n",
      "   1.28928586e-04 2.26725801e-03 1.55300426e-04 9.72355658e-04\n",
      "   3.33865610e-04 1.44953874e-03 2.04659719e-03]\n",
      "  [1.68450307e-02 9.62968171e-01 1.56696197e-02 7.93634244e-05\n",
      "   1.37113719e-04 1.16443716e-03 1.15835981e-04 9.20105667e-04\n",
      "   3.21497297e-04 5.55687468e-04 1.22295390e-03]\n",
      "  [1.95301995e-02 9.68587160e-01 8.03251099e-03 4.09824897e-05\n",
      "   2.53585109e-04 7.09920307e-04 1.49404761e-04 1.18123542e-03\n",
      "   4.28025698e-04 2.87421368e-04 7.99581758e-04]\n",
      "  [3.48072611e-02 9.54280794e-01 4.78849793e-03 3.78312361e-05\n",
      "   1.12565188e-03 6.16184552e-04 4.82261297e-04 1.94882508e-03\n",
      "   9.18916892e-04 2.49533332e-04 7.44028192e-04]\n",
      "  [1.07680097e-01 8.60112965e-01 3.36346310e-03 7.60332186e-05\n",
      "   1.38934189e-02 7.95810483e-04 5.28555177e-03 3.98974167e-03\n",
      "   3.33972555e-03 3.75172385e-04 1.08803506e-03]\n",
      "  [3.11039001e-01 4.21865553e-01 2.66118511e-03 2.63387861e-04\n",
      "   1.30394265e-01 1.37286552e-03 1.14023961e-01 6.58900291e-03\n",
      "   9.37491190e-03 7.24119192e-04 1.69160555e-03]]\n",
      "\n",
      " [[2.55595237e-01 2.59881318e-01 1.57883316e-01 1.44281536e-02\n",
      "   5.42277191e-03 1.99676558e-01 1.34278391e-03 3.15190554e-02\n",
      "   1.29459864e-02 1.20307505e-02 4.92740795e-02]\n",
      "  [1.41888663e-01 4.90544230e-01 9.72152948e-02 5.36298333e-03\n",
      "   4.53983713e-03 1.60001084e-01 6.99391181e-04 4.46800888e-02\n",
      "   1.42569020e-02 5.85352676e-03 3.49578895e-02]\n",
      "  [6.49239421e-02 7.01432228e-01 4.52004261e-02 1.79979217e-03\n",
      "   4.46382863e-03 8.26024413e-02 3.93467606e-04 6.09551482e-02\n",
      "   1.79270785e-02 2.28355406e-03 1.80180576e-02]\n",
      "  [3.07452083e-02 7.98902690e-01 1.71031859e-02 6.79042598e-04\n",
      "   6.19079545e-03 3.05990502e-02 2.92513607e-04 7.77579024e-02\n",
      "   2.84072421e-02 9.36557888e-04 8.38583708e-03]\n",
      "  [2.04580277e-02 8.05509925e-01 6.86002988e-03 3.51312890e-04\n",
      "   1.31152971e-02 1.25681367e-02 3.55390337e-04 8.55276808e-02\n",
      "   5.00343293e-02 5.42743946e-04 4.67713922e-03]\n",
      "  [2.52457373e-02 7.37455487e-01 3.26846191e-03 2.79398868e-04\n",
      "   4.85304967e-02 6.81439601e-03 7.81225855e-04 8.40235651e-02\n",
      "   8.94793496e-02 4.75256238e-04 3.64662916e-03]\n",
      "  [7.18712956e-02 4.57765013e-01 1.88322715e-03 3.07060662e-04\n",
      "   2.75878131e-01 3.76337557e-03 2.88052158e-03 6.73361346e-02\n",
      "   1.14613540e-01 5.13860199e-04 3.18788877e-03]\n",
      "  [2.95627803e-01 6.30865395e-02 8.31689336e-04 2.74011312e-04\n",
      "   5.66027880e-01 1.05982658e-03 6.39413903e-03 2.08760593e-02\n",
      "   4.40283678e-02 2.68906791e-04 1.52474421e-03]\n",
      "  [8.19020629e-01 3.09791579e-03 2.05684861e-04 1.27490552e-04\n",
      "   1.63472727e-01 1.92998195e-04 4.43806127e-03 3.09374998e-03\n",
      "   5.90811903e-03 5.91412791e-05 3.83561477e-04]\n",
      "  [9.62693512e-01 3.62328166e-04 5.33807506e-05 5.00169444e-05\n",
      "   3.26354504e-02 5.57836247e-05 2.26408034e-03 6.30524475e-04\n",
      "   1.13897165e-03 1.48314575e-05 1.01125792e-04]\n",
      "  [9.83066201e-01 1.37934927e-04 2.99991825e-05 3.37158963e-05\n",
      "   1.39851989e-02 3.10167889e-05 1.84838125e-03 2.73949554e-04\n",
      "   5.28649718e-04 8.47389310e-06 5.65833907e-05]\n",
      "  [9.88696516e-01 8.66340197e-05 2.72805519e-05 3.37965539e-05\n",
      "   8.29081237e-03 2.41196540e-05 2.25943746e-03 1.70083309e-04\n",
      "   3.52242059e-04 8.26534688e-06 5.06621582e-05]\n",
      "  [9.88418758e-01 8.85142872e-05 4.44972939e-05 6.14632154e-05\n",
      "   5.84486080e-03 3.27987036e-05 4.91709914e-03 1.67147009e-04\n",
      "   3.24465422e-04 1.62690394e-05 8.40659486e-05]]]\n",
      "\n",
      "predicted_labels : [[1 1 1 1 1 1 1 1 1 1 1 4 6]\n",
      " [1 1 1 1 1 1 4 0 0 0 0 0 0]\n",
      " [0 1 1 1 1 1 1 1 1 1 4 0 0]\n",
      " [3 9 1 1 1 1 1 1 1 1 1 1 1]\n",
      " [1 1 1 1 1 1 1 4 0 0 0 0 0]]\n",
      "\n",
      "reverse_label_mapping : {0: 'bgeo', 1: 'o', 2: 'borg', 3: 'bperson', 4: 'btime', 5: 'iorg', 6: 'itime', 7: 'bevent', 8: 'ievent', 9: 'iperson', 10: 'igeo'}\n",
      "\n",
      "\n",
      "predicted_label_mapped : [['o', 'o', 'o', 'o', 'o', 'o', 'o', 'o', 'o', 'o', 'o', 'btime', 'itime'], ['o', 'o', 'o', 'o', 'o', 'o', 'btime', 'bgeo', 'bgeo', 'bgeo', 'bgeo', 'bgeo', 'bgeo'], ['bgeo', 'o', 'o', 'o', 'o', 'o', 'o', 'o', 'o', 'o', 'btime', 'bgeo', 'bgeo'], ['bperson', 'iperson', 'o', 'o', 'o', 'o', 'o', 'o', 'o', 'o', 'o', 'o', 'o'], ['o', 'o', 'o', 'o', 'o', 'o', 'o', 'btime', 'bgeo', 'bgeo', 'bgeo', 'bgeo', 'bgeo']]\n"
     ]
    }
   ],
   "source": [
    "test_texts = [\n",
    "    \"Apple Inc. is planning to open a new store in Paris next month.\",\n",
    "    \"Microsoft Corporation announced a major acquisition yesterday.\",\n",
    "    \"The Eiffel Tower, located in Paris, attracts millions of tourists annually.\",\n",
    "    \"Elon Musk, the CEO of SpaceX, is known for his ambitious projects.\",\n",
    "    \"Japan will host the Olympic Games in 2022.\"\n",
    "]\n",
    "\n",
    "test_sequences = texts_tokenizer.texts_to_sequences(test_texts)\n",
    "test_sequences_padded = pad_sequences(test_sequences, maxlen=max_len_sequences, padding='post')\n",
    "\n",
    "predictions = model.predict(test_sequences_padded)\n",
    "print(\"\\npredictions :\",predictions)\n",
    "\n",
    "predicted_labels = np.argmax(predictions, axis=-1)\n",
    "print(\"\\npredicted_labels :\",predicted_labels)\n",
    "\n",
    "reverse_label_mapping = {index: label for label,index in label_mapping.items()}\n",
    "print(\"\\nreverse_label_mapping :\",reverse_label_mapping)\n",
    "\n",
    "predicted_label_mapped = [[reverse_label_mapping[index] for index in sequence] for sequence in predicted_labels]\n",
    "print(\"\\n\\npredicted_label_mapped :\",predicted_label_mapped)"
   ]
  },
  {
   "cell_type": "code",
   "execution_count": 39,
   "metadata": {},
   "outputs": [
    {
     "data": {
      "text/plain": [
       "['o', 'o', 'o', 'o', 'o', 'o', 'o', 'o', 'o', 'o', 'o', 'btime', 'itime']"
      ]
     },
     "execution_count": 39,
     "metadata": {},
     "output_type": "execute_result"
    }
   ],
   "source": [
    "predicted_label_mapped[0]"
   ]
  },
  {
   "cell_type": "code",
   "execution_count": 33,
   "metadata": {},
   "outputs": [
    {
     "data": {
      "text/plain": [
       "array([[1, 1, 1, 1, 1, 4, 0, 0, 0, 0, 0, 0, 0]])"
      ]
     },
     "execution_count": 33,
     "metadata": {},
     "output_type": "execute_result"
    }
   ],
   "source": [
    "predicted_labels"
   ]
  },
  {
   "cell_type": "code",
   "execution_count": 34,
   "metadata": {},
   "outputs": [
    {
     "data": {
      "text/plain": [
       "array([0.18171844, 0.32799542, 0.13778247, 0.00915144, 0.00800748,\n",
       "       0.21394183, 0.00103516, 0.05573627, 0.02062828, 0.00695129,\n",
       "       0.03705184], dtype=float32)"
      ]
     },
     "execution_count": 34,
     "metadata": {},
     "output_type": "execute_result"
    }
   ],
   "source": [
    "predictions[0][0]"
   ]
  },
  {
   "cell_type": "code",
   "execution_count": 35,
   "metadata": {},
   "outputs": [
    {
     "data": {
      "text/plain": [
       "1"
      ]
     },
     "execution_count": 35,
     "metadata": {},
     "output_type": "execute_result"
    }
   ],
   "source": [
    "len(predictions)"
   ]
  },
  {
   "cell_type": "code",
   "execution_count": 36,
   "metadata": {},
   "outputs": [
    {
     "data": {
      "text/plain": [
       "13"
      ]
     },
     "execution_count": 36,
     "metadata": {},
     "output_type": "execute_result"
    }
   ],
   "source": [
    "len(predictions[0])"
   ]
  },
  {
   "cell_type": "code",
   "execution_count": 37,
   "metadata": {},
   "outputs": [
    {
     "data": {
      "text/plain": [
       "11"
      ]
     },
     "execution_count": 37,
     "metadata": {},
     "output_type": "execute_result"
    }
   ],
   "source": [
    "len(predictions[0][0])"
   ]
  },
  {
   "cell_type": "code",
   "execution_count": null,
   "metadata": {},
   "outputs": [],
   "source": []
  }
 ],
 "metadata": {
  "kernelspec": {
   "display_name": "Python 3",
   "language": "python",
   "name": "python3"
  },
  "language_info": {
   "codemirror_mode": {
    "name": "ipython",
    "version": 3
   },
   "file_extension": ".py",
   "mimetype": "text/x-python",
   "name": "python",
   "nbconvert_exporter": "python",
   "pygments_lexer": "ipython3",
   "version": "3.11.7"
  }
 },
 "nbformat": 4,
 "nbformat_minor": 2
}
